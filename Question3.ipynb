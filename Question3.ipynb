{
 "cells": [
  {
   "cell_type": "code",
   "execution_count": 49,
   "id": "72b06b37",
   "metadata": {},
   "outputs": [],
   "source": [
    "def function(array, s):\n",
    "    hashs = {k:k for k in A}\n",
    "    l = {}\n",
    "    for k in A:\n",
    "        if s-k in hashs.keys() and s-k not in l.keys():\n",
    "            l[k] = s-k\n",
    "    return [(k,v) for k,v in l.items()]"
   ]
  },
  {
   "cell_type": "code",
   "execution_count": 50,
   "id": "eda82e2d",
   "metadata": {},
   "outputs": [
    {
     "name": "stdout",
     "output_type": "stream",
     "text": [
      "(7, -3) (-2, 6) (2, 2) (1, 3)\n"
     ]
    }
   ],
   "source": [
    "A = [7, -2, 8, 2, 6, 4, -7, 2, 1, 3, -3]\n",
    "s = 4\n",
    "print(*function(A, s))"
   ]
  }
 ],
 "metadata": {
  "kernelspec": {
   "display_name": "Python 3 (ipykernel)",
   "language": "python",
   "name": "python3"
  },
  "language_info": {
   "codemirror_mode": {
    "name": "ipython",
    "version": 3
   },
   "file_extension": ".py",
   "mimetype": "text/x-python",
   "name": "python",
   "nbconvert_exporter": "python",
   "pygments_lexer": "ipython3",
   "version": "3.9.7"
  }
 },
 "nbformat": 4,
 "nbformat_minor": 5
}
