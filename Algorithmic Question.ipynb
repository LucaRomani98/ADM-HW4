{
 "cells": [
  {
   "cell_type": "code",
   "execution_count": 1,
   "id": "ad8707ab",
   "metadata": {},
   "outputs": [],
   "source": [
    "def function(array, s):\n",
    "    output = []\n",
    "    if len(array) == 1:\n",
    "        return output\n",
    "    for i in range(len(array)):\n",
    "        item = array[i]\n",
    "        for j in range(i+1,len(array),1):\n",
    "            if item + array[j] == s:\n",
    "                output.append((item,array[j]))\n",
    "                break\n",
    "    return output   "
   ]
  },
  {
   "cell_type": "code",
   "execution_count": 2,
   "id": "99059d30",
   "metadata": {},
   "outputs": [],
   "source": [
    "A = [7, -2, 8, 2, 6, 4, -7, 2, 1, 3, -3]\n",
    "s = 4"
   ]
  },
  {
   "cell_type": "code",
   "execution_count": 3,
   "id": "646ff8c6",
   "metadata": {},
   "outputs": [
    {
     "data": {
      "text/plain": [
       "[(7, -3), (-2, 6), (2, 2), (1, 3)]"
      ]
     },
     "execution_count": 3,
     "metadata": {},
     "output_type": "execute_result"
    }
   ],
   "source": [
    "function(A,s)"
   ]
  }
 ],
 "metadata": {
  "kernelspec": {
   "display_name": "Python 3",
   "language": "python",
   "name": "python3"
  },
  "language_info": {
   "codemirror_mode": {
    "name": "ipython",
    "version": 3
   },
   "file_extension": ".py",
   "mimetype": "text/x-python",
   "name": "python",
   "nbconvert_exporter": "python",
   "pygments_lexer": "ipython3",
   "version": "3.8.8"
  }
 },
 "nbformat": 4,
 "nbformat_minor": 5
}
